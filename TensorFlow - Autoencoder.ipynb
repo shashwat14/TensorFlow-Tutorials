{
 "cells": [
  {
   "cell_type": "code",
   "execution_count": 1,
   "metadata": {
    "collapsed": true
   },
   "outputs": [],
   "source": [
    "import tensorflow as tf\n",
    "import numpy as np\n",
    "import matplotlib.pyplot as plt\n",
    "from tensorflow.examples.tutorials.mnist import input_data"
   ]
  },
  {
   "cell_type": "code",
   "execution_count": 2,
   "metadata": {
    "collapsed": false
   },
   "outputs": [],
   "source": [
    "def weight(shape):\n",
    "    return tf.Variable(tf.random_normal(shape=shape, stddev=0.1))\n",
    "def bias(shape):\n",
    "    return tf.Variable(tf.random_normal(shape=shape, stddev=0.1))"
   ]
  },
  {
   "cell_type": "code",
   "execution_count": 3,
   "metadata": {
    "collapsed": false
   },
   "outputs": [],
   "source": [
    "input = tf.placeholder(shape=[None, 784], dtype=tf.float32)\n",
    "output = tf.placeholder(shape=[None, 784], dtype=tf.float32)\n",
    "encoded = tf.matmul(input, weight([784, 32])) + bias([32])\n",
    "encoded = tf.nn.relu(encoded)\n",
    "decoded = tf.matmul(encoded, weight([32, 784])) + bias([784])\n",
    "out = tf.nn.sigmoid(decoded)"
   ]
  },
  {
   "cell_type": "code",
   "execution_count": 4,
   "metadata": {
    "collapsed": true
   },
   "outputs": [],
   "source": [
    "loss = tf.reduce_sum(tf.square(tf.subtract(output, out)))\n",
    "train_step = tf.train.AdamOptimizer().minimize(loss)"
   ]
  },
  {
   "cell_type": "code",
   "execution_count": 5,
   "metadata": {
    "collapsed": false
   },
   "outputs": [
    {
     "name": "stdout",
     "output_type": "stream",
     "text": [
      "Extracting MNIST_data/train-images-idx3-ubyte.gz\n",
      "Extracting MNIST_data/train-labels-idx1-ubyte.gz\n",
      "Extracting MNIST_data/t10k-images-idx3-ubyte.gz\n",
      "Extracting MNIST_data/t10k-labels-idx1-ubyte.gz\n"
     ]
    }
   ],
   "source": [
    "mnist = input_data.read_data_sets(\"MNIST_data/\", one_hot=True)\n",
    "size = mnist.train.images.shape[0]\n",
    "batch_size = 256\n",
    "steps = int(size/batch_size)\n",
    "epochs = 50"
   ]
  },
  {
   "cell_type": "code",
   "execution_count": 7,
   "metadata": {
    "collapsed": false
   },
   "outputs": [
    {
     "name": "stdout",
     "output_type": "stream",
     "text": [
      "Epoch : 0 , loss : [8546.8809] \n",
      "Epoch : 5 , loss : [3282.4084] \n",
      "Epoch : 10 , loss : [2192.8364] \n",
      "Epoch : 15 , loss : [2246.3892] \n",
      "Epoch : 20 , loss : [2150.9417] \n",
      "Epoch : 25 , loss : [2119.9221] \n",
      "Epoch : 30 , loss : [2120.5344] \n",
      "Epoch : 35 , loss : [2142.2471] \n",
      "Epoch : 40 , loss : [2117.4058] \n",
      "Epoch : 45 , loss : [1959.9258] \n"
     ]
    }
   ],
   "source": [
    "sess = tf.InteractiveSession()\n",
    "init_op = tf.global_variables_initializer().run()\n",
    "for i in range(epochs):\n",
    "    for j in range(steps):\n",
    "        X,_ = mnist.train.next_batch(batch_size)\n",
    "        sess.run(train_step, feed_dict={input:X, output:X})\n",
    "    if i % 5 == 0:\n",
    "        print (\"Epoch : {} , loss : {} \".format(i, sess.run([loss], feed_dict={input:X, output:X})))"
   ]
  },
  {
   "cell_type": "code",
   "execution_count": 8,
   "metadata": {
    "collapsed": false
   },
   "outputs": [
    {
     "data": {
      "image/png": "[encoded data removed]",
      "text/plain": [
       "<matplotlib.figure.Figure at 0x2b46b80d898>"
      ]
     },
     "metadata": {},
     "output_type": "display_data"
    },
    {
     "data": {
      "image/png": "[encoded data removed]",
      "text/plain": [
       "<matplotlib.figure.Figure at 0x2b46ff03128>"
      ]
     },
     "metadata": {},
     "output_type": "display_data"
    }
   ],
   "source": [
    "X = mnist.validation.images\n",
    "input_image = X[0,:].reshape(28,28)\n",
    "output_image = sess.run([out], feed_dict={input:X[0].reshape(1,784)}) \n",
    "\n",
    "plt.imshow(input_image, cmap='gray')\n",
    "plt.show()\n",
    "plt.imshow(output_image[0].reshape(28,28), cmap='gray')\n",
    "plt.show()"
   ]
  },
  {
   "cell_type": "code",
   "execution_count": null,
   "metadata": {
    "collapsed": true
   },
   "outputs": [],
   "source": []
  }
 ],
 "metadata": {
  "anaconda-cloud": {},
  "kernelspec": {
   "display_name": "Python [conda env:tensorflow-gpu]",
   "language": "python",
   "name": "conda-env-tensorflow-gpu-py"
  },
  "language_info": {
   "codemirror_mode": {
    "name": "ipython",
    "version": 3
   },
   "file_extension": ".py",
   "mimetype": "text/x-python",
   "name": "python",
   "nbconvert_exporter": "python",
   "pygments_lexer": "ipython3",
   "version": "3.5.2"
  }
 },
 "nbformat": 4,
 "nbformat_minor": 1
}
