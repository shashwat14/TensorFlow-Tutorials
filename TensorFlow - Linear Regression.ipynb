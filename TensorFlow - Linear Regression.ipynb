{
 "cells": [
  {
   "cell_type": "markdown",
   "metadata": {},
   "source": [
    "# This is a linear regression example. \n",
    "Let's begin with importing the libraries required for linear regression."
   ]
  },
  {
   "cell_type": "code",
   "execution_count": 74,
   "metadata": {
    "collapsed": true
   },
   "outputs": [],
   "source": [
    "import tensorflow as tf\n",
    "import numpy as np\n",
    "import random\n",
    "import matplotlib.pyplot as plt"
   ]
  },
  {
   "cell_type": "markdown",
   "metadata": {},
   "source": [
    "## We'll first generate fake *almost* linear data\n",
    "1. Create a (1000, 1) sized matrix of numbers ranging from 1 to 1000.\n",
    "2. Create a matrix y using the equation of line with slope 2 and y-intercept 1 and add gaussian noise, so it's not exactly linear. \n",
    "3. Plot the data for visualization\n",
    "3. Find mean, max, and min of the input matrix X.\n",
    "4. Normalize the matrix X - (as normalizing input data eases the process of gradient descent)."
   ]
  },
  {
   "cell_type": "code",
   "execution_count": 97,
   "metadata": {
    "collapsed": false
   },
   "outputs": [
    {
     "data": {
      "image/png": "[encoded data removed]",
      "text/plain": [
       "<matplotlib.figure.Figure at 0x1e1598787f0>"
      ]
     },
     "metadata": {},
     "output_type": "display_data"
    }
   ],
   "source": [
    "%matplotlib inline\n",
    "\n",
    "X = np.matrix(range(100)).T\n",
    "y = 2*X + 1 + np.random.normal(0, 5, (100,1))\n",
    "plt.scatter(X, y)\n",
    "\n",
    "mu = np.mean(X)\n",
    "max = np.max(X)\n",
    "min = np.min(X)\n",
    "X = (X-mu)/(max-min)"
   ]
  },
  {
   "cell_type": "markdown",
   "metadata": {},
   "source": [
    "## Create TensorFlow nodes needed for computational graph\n",
    "1. Create slope variable - W - also known as weight.\n",
    "2. Create y-intercept variable - b - also known as bias.\n",
    "3. Create input placeholder x\n",
    "4. Create output placeholder y_\n",
    "\n",
    "Read documentation of tf.Variable and tf.placeholder to understand more"
   ]
  },
  {
   "cell_type": "code",
   "execution_count": 98,
   "metadata": {
    "collapsed": false
   },
   "outputs": [],
   "source": [
    "W = tf.Variable(tf.zeros([1]), tf.float32)\n",
    "b = tf.Variable(tf.zeros([1]), tf.float32)\n",
    "\n",
    "x = tf.placeholder(tf.float32, [None, 1])\n",
    "y_ = tf.placeholder(tf.float32, [None, 1])"
   ]
  },
  {
   "cell_type": "markdown",
   "metadata": {},
   "source": [
    "# Construct computational graph\n",
    "1. Construct a linear model in tensorflow which will be used for prediction. This linear model is constructed within as tensorflow graph\n",
    "2. Decleare mean squared error (mse) as a computational graph"
   ]
  },
  {
   "cell_type": "code",
   "execution_count": 99,
   "metadata": {
    "collapsed": false
   },
   "outputs": [],
   "source": [
    "pred_y = tf.multiply(W,x) + b\n",
    "mse = tf.reduce_mean(tf.squared_difference(pred_y, y_))/2"
   ]
  },
  {
   "cell_type": "markdown",
   "metadata": {},
   "source": [
    "# Declare Hyperparameters\n",
    "1. Train Step Variable that is a Gradient Descent optimizer with 0.5 learning rate and is trying to mse create in the previous cell\n",
    "2. Declare a history list that stores the error over all the epochs\n",
    "3. Create a session and initialize all variables (W and b)\n",
    "4. Run a for loop for 1000 epochs, and run the session to train the linear model\n",
    "5. After for loop, save the value of W and b in another variable for plotting the line later"
   ]
  },
  {
   "cell_type": "code",
   "execution_count": 105,
   "metadata": {
    "collapsed": false
   },
   "outputs": [],
   "source": [
    "train_step = tf.train.GradientDescentOptimizer(0.5).minimize(mse)\n",
    "history = []\n",
    "slope = 0\n",
    "y_intercept = 0\n",
    "with tf.Session() as sess:\n",
    "    init_op = tf.global_variables_initializer().run()\n",
    "    for i in range(1000):\n",
    "        sess.run(train_step,{y_:y, x:X})\n",
    "        history.append(sess.run(mse, {y_:y, x:X}))\n",
    "    slope = sess.run([W])\n",
    "    y_intercept = sess.run([b])"
   ]
  },
  {
   "cell_type": "markdown",
   "metadata": {},
   "source": [
    "# Plot the error history - It should quickly go down to almost 0 (as our data was almost linear)"
   ]
  },
  {
   "cell_type": "code",
   "execution_count": 104,
   "metadata": {
    "collapsed": false
   },
   "outputs": [
    {
     "data": {
      "text/plain": [
       "[<matplotlib.lines.Line2D at 0x1e159878198>]"
      ]
     },
     "execution_count": 104,
     "metadata": {},
     "output_type": "execute_result"
    },
    {
     "data": {
      "image/png": "[encoded data removed]",
      "text/plain": [
       "<matplotlib.figure.Figure at 0x1e1599e0ef0>"
      ]
     },
     "metadata": {},
     "output_type": "display_data"
    }
   ],
   "source": [
    "plt.plot(history)"
   ]
  },
  {
   "cell_type": "markdown",
   "metadata": {},
   "source": [
    "# Plot the model (line obtained after training) along with training data"
   ]
  },
  {
   "cell_type": "code",
   "execution_count": 106,
   "metadata": {
    "collapsed": false
   },
   "outputs": [
    {
     "data": {
      "text/plain": [
       "<matplotlib.collections.PathCollection at 0x1e1598b6828>"
      ]
     },
     "execution_count": 106,
     "metadata": {},
     "output_type": "execute_result"
    },
    {
     "data": {
      "image/png": "[encoded data removed]",
      "text/plain": [
       "<matplotlib.figure.Figure at 0x1e159a7ed68>"
      ]
     },
     "metadata": {},
     "output_type": "display_data"
    }
   ],
   "source": [
    "input_x = np.matrix(range(100)).T\n",
    "normalizeX = (input_x - mu)/(max-min)\n",
    "output = normalizeX * slope + y_intercept\n",
    "plt.plot(normalizeX, output)\n",
    "plt.scatter(X,y)"
   ]
  },
  {
   "cell_type": "code",
   "execution_count": null,
   "metadata": {
    "collapsed": true
   },
   "outputs": [],
   "source": []
  }
 ],
 "metadata": {
  "anaconda-cloud": {},
  "kernelspec": {
   "display_name": "Python [conda env:tensorflow-gpu]",
   "language": "python",
   "name": "conda-env-tensorflow-gpu-py"
  },
  "language_info": {
   "codemirror_mode": {
    "name": "ipython",
    "version": 3
   },
   "file_extension": ".py",
   "mimetype": "text/x-python",
   "name": "python",
   "nbconvert_exporter": "python",
   "pygments_lexer": "ipython3",
   "version": "3.5.2"
  }
 },
 "nbformat": 4,
 "nbformat_minor": 1
}
